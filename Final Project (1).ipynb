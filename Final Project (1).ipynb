{
 "cells": [
  {
   "cell_type": "markdown",
   "metadata": {},
   "source": [
    "# Final Project - Justin Kim\n",
    "Sometimes, it’s hard to choose music to help entertain people. Whether you’ve been given the aux cord in a car, have guests over for dinner, or just need some background music, it can be pretty stressful to pick a song to set the mood. Thankfully, now some of that stress can be alleviated. For my final project, I have created a chatbot named “DJ Sun God” who, based off your responses, will help you pick the perfect song for you to play! DJ Sun God helps you choose a song based off of your preference of genre or mood, and whether you want to listen to a male or female artist! Have fun chatting with DJ Sun God and jam out!"
   ]
  },
  {
   "cell_type": "code",
   "execution_count": null,
   "metadata": {},
   "outputs": [],
   "source": [
    "import string\n",
    "import random\n",
    "import pandas as pd\n",
    "from questions import *"
   ]
  },
  {
   "cell_type": "code",
   "execution_count": null,
   "metadata": {},
   "outputs": [],
   "source": [
    "#list of all music artists for the genres\n",
    "rap_artists = ['Drake', '21 Savage', 'Big Sean', 'Nicki Minaj', 'Megan Thee Stallion', 'Maliibu Miitch']\n",
    "\n",
    "pop_artists = ['Ed Sheeran', 'Shawn Mendes', 'Troye Sivan', 'Normani', 'Bebe Rexha', 'Ariana Grande']\n",
    "\n",
    "rb_artists = ['Khalid', 'Frank Ocean', 'Post Malone', 'Jhene Aiko', 'Summer Walker', 'Ari Lennox']\n",
    "\n",
    "#list of all songs for the genres\n",
    "rap_songs = ['Nonstop', 'Bank Account', 'Bounce Back', 'Good Form', 'Big Ole Freak', 'Celine'] \n",
    "\n",
    "pop_songs = ['Shape of You', 'In My Blood', 'Youth', 'Motivation', 'I Got You', '7 Rings']\n",
    "\n",
    "rb_songs = ['Location', 'Pink + White', 'White Iverson', 'Triggered', 'CPR', 'Up Late']\n",
    "\n",
    "#list of all genders of the artists for the genres\n",
    "rap_genders = ['male', 'male', 'male', 'female', 'female', 'female']\n",
    "\n",
    "pop_genders = ['male', 'male', 'male', 'female', 'female', 'female']\n",
    "\n",
    "rb_genders = ['male', 'male', 'male', 'female', 'female', 'female']\n"
   ]
  },
  {
   "cell_type": "code",
   "execution_count": null,
   "metadata": {},
   "outputs": [],
   "source": [
    "#list of all music artists for the moods\n",
    "turnt_party_artists = ['Kendrick Lamar', 'Travis Scott', 'YG', 'Saweetie', 'Kash Doll', 'Cardi B']\n",
    "\n",
    "sadness_artists = ['Lorde', 'Lana Del Rey', 'Billie Eilish', 'Goody Grace', 'Frank Ocean', '5SOS']\n",
    "\n",
    "christmas_artists = ['Ariana Grande', 'Mariah Carey', 'Kacey Musgraves', 'Alex Aiono', 'WHAM', 'Justin Bieber']\n",
    "\n",
    "#list of all songs for the moods\n",
    "turnt_party_songs = ['HUMBLE', 'Butterfly Effect', 'TOO COCKY', 'My Type', 'Doin Too Much', 'Bodak Yellow']\n",
    "\n",
    "sadness_songs = ['Liability', 'Shades of Cool', 'hostage', 'WYWH', 'Ivy', 'Lie to Me']\n",
    "\n",
    "christmas_songs = ['Santa Tell Me', 'All I Want for Christmas For You', 'Ribbons and Bows', 'Christmas in California', \"Last Christmas\", 'Mistletoe']\n",
    "\n",
    "#list of all genders of the artists for the moods\n",
    "turnt_genders = ['male', 'male', 'male', 'female', 'female', 'female']\n",
    "\n",
    "sadness_genders = ['female', 'female', 'female', 'male', 'male', 'male']\n",
    "\n",
    "christmas_genders = ['female', 'female', 'female', 'male', 'male', 'male']"
   ]
  },
  {
   "cell_type": "code",
   "execution_count": null,
   "metadata": {},
   "outputs": [],
   "source": [
    "#creating dictionaries of lists for the genres\n",
    "rap_dict = {'Artist' : rap_artists, 'Song' : rap_songs, 'Gender' : rap_genders, \"Genre/Mood\": [\"rap\" for artists in rap_artists]}\n",
    "\n",
    "pop_dict = {'Artist' : pop_artists, 'Song' : pop_songs, 'Gender' : pop_genders, \"Genre/Mood\": [\"pop\" for artists in pop_artists]}\n",
    "\n",
    "rb_dict = {'Artist' : rb_artists, 'Song' : rb_songs, 'Gender' : rb_genders, \"Genre/Mood\": [\"r&b\" for artists in rb_artists]}\n",
    "           \n",
    "#creating dictionaries of lists for the moods\n",
    "turnt_dict = {'Artist': turnt_party_artists, 'Song' : turnt_party_songs, 'Gender': turnt_genders, \"Genre/Mood\": [\"turnt\" for artists in turnt_party_artists]}\n",
    "\n",
    "sadness_dict = {'Artist': sadness_artists, 'Song' : sadness_songs, 'Gender': sadness_genders, \"Genre/Mood\": [\"sadness\" for artists in sadness_artists]}\n",
    "\n",
    "christmas_dict = {'Artist': christmas_artists, 'Song' : christmas_songs, 'Gender': christmas_genders, \"Genre/Mood\": [\"christmas\" for artists in christmas_artists]}"
   ]
  },
  {
   "cell_type": "code",
   "execution_count": null,
   "metadata": {},
   "outputs": [],
   "source": [
    "#creating the dataframes for the genres with information from the dictionaries\n",
    "rap_df = pd.DataFrame(rap_dict)\n",
    "\n",
    "pop_df = pd.DataFrame(pop_dict)\n",
    "\n",
    "rb_df = pd.DataFrame(rb_dict)\n",
    "\n",
    "#creating the dataframes for the moods with information from the dictionaries\n",
    "turnt_df = pd.DataFrame(turnt_dict)\n",
    "\n",
    "sadness_df = pd.DataFrame(sadness_dict)\n",
    "\n",
    "christmas_df = pd.DataFrame(christmas_dict)\n",
    "\n",
    "#final dataframe with artist name, gender, genre/mood, and song title\n",
    "all_songs_df = rap_df.append([pop_df, rb_df, turnt_df, sadness_df, christmas_df], ignore_index=True)\n",
    "all_songs_df"
   ]
  },
  {
   "cell_type": "code",
   "execution_count": null,
   "metadata": {},
   "outputs": [],
   "source": [
    "#Setting up the function to start the chatbot\n",
    "def sun_god():\n",
    "    stop = False\n",
    "    while stop == False:\n",
    "        inputStr = input(\"Hi, I'm DJ Sun God. Are you looking for music recommendations? Type yes or no. \").lower()\n",
    "        print(inputStr)\n",
    "        if(inputStr == 'yes'):\n",
    "            stop = True\n",
    "        elif(inputStr == 'no'):\n",
    "            return\n",
    "        else:\n",
    "            stop = False\n",
    "            print(\"\\nDidn't understand that. Try again.\")\n",
    "    \n",
    "    choice = ask_genre_or_mood()\n",
    "    \n",
    "    #Testing that the response for choice is not None\n",
    "    assert choice != None\n",
    "   \n",
    "    category = ask_category()\n",
    "    \n",
    "    #Testing that the response for category is not None\n",
    "    assert category != None \n",
    "    \n",
    "    gender = ask_gender()\n",
    "    #Testing that the response for gender is not None\n",
    "    assert gender != None\n",
    "    \n",
    "    songs = all_songs_df[all_songs_df[\"Gender\"] == gender][all_songs_df[\"Genre/Mood\"] == category].reset_index()\n",
    "    song_selection = random.choice(range(len(songs)))\n",
    "    print(songs[\"Song\"][song_selection] + \" by \" + songs[\"Artist\"][song_selection])\n",
    "    "
   ]
  },
  {
   "cell_type": "code",
   "execution_count": null,
   "metadata": {},
   "outputs": [],
   "source": [
    "sun_god()"
   ]
  },
  {
   "cell_type": "markdown",
   "metadata": {},
   "source": [
    "# Extra Credit \n",
    "For my project, I implemented the use of a dataframe using pandas. This was not a concept which was covered in class, and I went to Office Hours to learn more about it as well as researching online how to utilize it to organize the songs, genres, artists, and genders all in one organized place.\n"
   ]
  },
  {
   "cell_type": "code",
   "execution_count": null,
   "metadata": {},
   "outputs": [],
   "source": []
  }
 ],
 "metadata": {
  "kernelspec": {
   "display_name": "Python 3",
   "language": "python",
   "name": "python3"
  },
  "language_info": {
   "codemirror_mode": {
    "name": "ipython",
    "version": 3
   },
   "file_extension": ".py",
   "mimetype": "text/x-python",
   "name": "python",
   "nbconvert_exporter": "python",
   "pygments_lexer": "ipython3",
   "version": "3.6.7"
  }
 },
 "nbformat": 4,
 "nbformat_minor": 2
}
